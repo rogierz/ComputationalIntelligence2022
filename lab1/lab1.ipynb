{
 "cells": [
  {
   "cell_type": "markdown",
   "metadata": {
    "pycharm": {
     "name": "#%% md\n"
    }
   },
   "source": [
    "Copyright **`(c)`** 2022 Giovanni Squillero `<squillero@polito.it>`  \n",
    "[`https://github.com/squillero/computational-intelligence`](https://github.com/squillero/computational-intelligence)  \n",
    "Free for personal or classroom use; see [`LICENSE.md`](https://github.com/squillero/computational-intelligence/blob/master/LICENSE.md) for details.  \n"
   ]
  },
  {
   "cell_type": "markdown",
   "metadata": {
    "pycharm": {
     "name": "#%%\n"
    }
   },
   "source": [
    "# Lab 1: Set Covering\n",
    "\n",
    "First lab + peer review. List this activity in your final report, it will be part of your exam.\n",
    "\n",
    "## Task\n",
    "\n",
    "Given a number $N$ and some lists of integers $P = (L_0, L_1, L_2, ..., L_n)$, \n",
    "determine is possible $S = (L_{s_0}, L_{s_1}, L_{s_2}, ..., L_{s_n})$\n",
    "such that each number between $0$ and $N-1$ appears in at least one list\n",
    "\n",
    "$$\\forall n \\in [0, N-1] \\ \\exists i : n \\in L_{s_i}$$\n",
    "\n",
    "and that the total numbers of elements in all $L_{s_i}$ is minimum. ($\\min \\sum_i^{n}len(L_{s_i})$)\n",
    "\n",
    "## Instructions\n",
    "\n",
    "* Create the directory `lab1` inside the course repo (the one you registered with Andrea)\n",
    "* Put a `README.md` and your solution (all the files, code and auxiliary data if needed)\n",
    "* Use `problem` to generate the problems with different $N$\n",
    "* In the `README.md`, report the the total numbers of elements in $L_{s_i}$ for problem with $N \\in [5, 10, 20, 100, 500, 1000]$ and the total number on $nodes$ visited during the search. Use `seed=42`.\n",
    "* Use `GitHub Issues` to peer review others' lab\n",
    "\n",
    "## Notes\n",
    "\n",
    "* Working in group is not only allowed, but recommended (see: [Ubuntu](https://en.wikipedia.org/wiki/Ubuntu_philosophy) and [Cooperative Learning](https://files.eric.ed.gov/fulltext/EJ1096789.pdf)). Collaborations must be explicitly declared in the `README.md`.\n",
    "* [Yanking](https://www.emacswiki.org/emacs/KillingAndYanking) from the internet is allowed, but sources must be explicitly declared in the `README.md`.\n",
    "\n",
    "**Deadline**\n",
    "\n",
    "* Sunday, October 16th 23:59:59 for the working solution\n",
    "* Sunday, October 23rd 23:59:59 for the peer reviews"
   ]
  },
  {
   "cell_type": "markdown",
   "metadata": {},
   "source": [
    "# Code"
   ]
  },
  {
   "cell_type": "code",
   "execution_count": 8,
   "metadata": {},
   "outputs": [],
   "source": [
    "import random\n",
    "import numpy as np\n",
    "import logging\n",
    "import pprint\n",
    "from utils import search, State\n",
    "logging.basicConfig(format=\"%(asctime)s %(levelname)s: %(message)s\")"
   ]
  },
  {
   "cell_type": "code",
   "execution_count": 9,
   "metadata": {},
   "outputs": [],
   "source": [
    "DEBUG = False\n",
    "logging.getLogger().setLevel(logging.DEBUG if DEBUG else logging.INFO)"
   ]
  },
  {
   "cell_type": "code",
   "execution_count": 10,
   "metadata": {},
   "outputs": [],
   "source": [
    "def problem(N, seed=None):\n",
    "    random.seed(seed)\n",
    "    return [\n",
    "        list(set(random.randint(0, N - 1) for n in range(random.randint(N // 5, N // 2))))\n",
    "        for n in range(random.randint(N, N * 5))\n",
    "    ]"
   ]
  },
  {
   "cell_type": "code",
   "execution_count": 11,
   "metadata": {},
   "outputs": [],
   "source": [
    "SEED = 42"
   ]
  },
  {
   "cell_type": "code",
   "execution_count": 12,
   "metadata": {},
   "outputs": [],
   "source": [
    "INITIAL_STATE = State(())"
   ]
  },
  {
   "cell_type": "code",
   "execution_count": 13,
   "metadata": {},
   "outputs": [],
   "source": [
    "def possible_actions(state: State):\n",
    "    for p in P:\n",
    "        data = np.zeros(N)\n",
    "        data[p] = 1\n",
    "        if len(state.data) == 0 or not (np.logical_and(state.data[0], data) == data).all():\n",
    "            yield np.array(p)\n",
    "\n",
    "def result(state: State, action):\n",
    "    action_bit = np.zeros(N, dtype=bool)\n",
    "    action_bit[action] = True\n",
    "    if len(state.data) == 0:\n",
    "        return State((action_bit, action))\n",
    "    result_history = np.logical_or(state.data[0], action_bit)\n",
    "    del action_bit\n",
    "    return State((result_history, action))\n",
    "\n",
    "def goal_test(state: State):\n",
    "    if len(state.data) == 0:\n",
    "        return False    \n",
    "    return state.data[0].all()"
   ]
  },
  {
   "cell_type": "code",
   "execution_count": 14,
   "metadata": {},
   "outputs": [
    {
     "name": "stderr",
     "output_type": "stream",
     "text": [
      "2022-10-24 23:10:24,538 INFO: P: [[0], [1], [0], [4], [0], [1], [4], [4], [4], [1, 3], [0, 1], [2], [1], [0], [0, 2], [2, 4], [3], [3], [4], [2, 4], [0], [1], [0, 1], [3], [2, 3]]\n",
      "2022-10-24 23:10:24,544 INFO: Found a solution in 4 steps; visited 3 nodes\n",
      "2022-10-24 23:10:24,545 INFO: N: 5, W: 5\n",
      "2022-10-24 23:10:24,545 INFO: P: [[0, 4], [1, 2, 3], [9, 6], [0, 1], [8, 9, 3], [8, 3], [0, 3, 4, 7, 9], [4, 5, 6], [1, 3, 5], [1, 6], [0, 9, 4, 5], [8, 1, 6], [9, 3, 5], [0, 3], [1, 3, 6], [2, 5, 7], [1, 3, 4, 9], [8, 2, 3], [3, 4, 5, 6, 8], [0, 3], [1, 3, 4, 6], [3, 6, 7], [2, 3, 4], [9, 6], [8, 2, 3, 7], [0, 1], [9, 2, 6], [6], [8, 0, 4, 1], [1, 4, 5, 6], [0, 4, 7], [8, 1, 4], [2, 5], [9, 5], [0, 1, 3, 4, 5], [9, 3], [1, 7], [8, 2], [8, 2, 7], [8, 9, 3, 6], [4, 5, 6], [8, 1, 3, 7], [0, 5], [0, 9, 3], [0, 3], [0, 5], [8, 3], [8, 2, 3, 7], [1, 3, 6, 7], [5, 6]]\n",
      "2022-10-24 23:10:24,557 INFO: Found a solution in 4 steps; visited 3 nodes\n",
      "2022-10-24 23:10:24,558 INFO: N: 10, W: 10\n",
      "2022-10-24 23:10:24,559 INFO: P: [[8, 4, 7], [0, 1, 2, 3, 6, 13, 17, 18], [0, 6, 16, 17, 19], [0, 5, 7, 8, 13, 14, 17, 18], [2, 3, 4, 6, 8, 10], [1, 3, 8, 11, 14, 19], [2, 3, 9, 11, 12, 17, 18, 19], [1, 2, 9, 7], [3, 5, 6, 7, 8, 11, 12, 14], [2, 5, 7, 8, 12, 14, 17, 19], [17, 10, 1, 7], [2, 6, 8, 10, 12, 15, 18], [4, 7, 8, 14, 17, 18], [4, 7, 11, 12, 15, 16, 18], [1, 3, 4, 5], [2, 8, 12, 13, 14, 16, 17, 19], [0, 3, 5, 8, 9, 10, 13, 14, 17], [8, 16, 5], [16, 9, 19, 6], [0, 5, 11, 16, 17], [0, 1, 3, 7, 9, 10, 11, 15], [18, 2, 15], [4, 5, 8, 13, 15, 16, 17, 19], [6, 9, 11, 12, 17], [2, 3, 7, 10, 14, 16], [17, 18, 7], [0, 1, 2, 7], [16, 10, 2, 7], [4, 6, 15, 17, 18], [3, 6, 7, 13, 15], [1, 3, 13, 14], [3, 6, 7, 10, 14, 17], [5, 7, 8, 13, 14], [0, 1, 2, 3, 5, 7, 14, 17]]\n",
      "2022-10-24 23:10:29,113 INFO: Found a solution in 6 steps; visited 4189 nodes\n",
      "2022-10-24 23:10:29,120 INFO: N: 20, W: 23\n"
     ]
    }
   ],
   "source": [
    "parent_state = dict()\n",
    "state_cost = dict()\n",
    "\n",
    "\n",
    "def h(state):\n",
    "    return N - state.data[0].sum()\n",
    "\n",
    "for N in [5, 10, 20]:\n",
    "    P = problem(N, SEED)\n",
    "    logging.info(f\"P: {P}\")\n",
    "    U = np.arange(N)\n",
    "    UxS = np.zeros((N, len(P)), dtype=np.uint8)\n",
    "    for i, p in enumerate(P):\n",
    "        UxS[p, i] = 1\n",
    "\n",
    "    if not UxS.any(axis=1).all():\n",
    "        logging.info(\"Impossible\")\n",
    "        exit\n",
    "    \n",
    "    final = search(\n",
    "        INITIAL_STATE,\n",
    "        goal_test=goal_test,\n",
    "        parent_state=parent_state,\n",
    "        state_cost=state_cost,\n",
    "        priority_function=lambda s: state_cost[s] + h(s),\n",
    "        unit_cost=lambda a: len(a),\n",
    "        possible_actions=possible_actions,\n",
    "        result=result\n",
    "    )\n",
    "\n",
    "    final_prettier = [list(final[i][1]) for i in range(1, len(final))]\n",
    "    logging.info(f\"N: {N}, W: {sum(map(lambda x: len(x), final_prettier))}, Solution: {final_prettier}\")"
   ]
  }
 ],
 "metadata": {
  "kernelspec": {
   "display_name": "Python 3.10.7 ('.venv': poetry)",
   "language": "python",
   "name": "python3"
  },
  "language_info": {
   "codemirror_mode": {
    "name": "ipython",
    "version": 3
   },
   "file_extension": ".py",
   "mimetype": "text/x-python",
   "name": "python",
   "nbconvert_exporter": "python",
   "pygments_lexer": "ipython3",
   "version": "3.10.7"
  },
  "vscode": {
   "interpreter": {
    "hash": "1f6b124141497e8550d29bbaca34848571f9372956dfd6adff4e1c66b6950e25"
   }
  }
 },
 "nbformat": 4,
 "nbformat_minor": 2
}
