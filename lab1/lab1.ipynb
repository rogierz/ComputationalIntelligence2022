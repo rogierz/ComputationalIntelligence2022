{
 "cells": [
  {
   "cell_type": "markdown",
   "metadata": {
    "pycharm": {
     "name": "#%% md\n"
    }
   },
   "source": [
    "Copyright **`(c)`** 2022 Giovanni Squillero `<squillero@polito.it>`  \n",
    "[`https://github.com/squillero/computational-intelligence`](https://github.com/squillero/computational-intelligence)  \n",
    "Free for personal or classroom use; see [`LICENSE.md`](https://github.com/squillero/computational-intelligence/blob/master/LICENSE.md) for details.  \n"
   ]
  },
  {
   "cell_type": "markdown",
   "metadata": {
    "pycharm": {
     "name": "#%%\n"
    }
   },
   "source": [
    "# Lab 1: Set Covering\n",
    "\n",
    "First lab + peer review. List this activity in your final report, it will be part of your exam.\n",
    "\n",
    "## Task\n",
    "\n",
    "Given a number $N$ and some lists of integers $P = (L_0, L_1, L_2, ..., L_n)$, \n",
    "determine is possible $S = (L_{s_0}, L_{s_1}, L_{s_2}, ..., L_{s_n})$\n",
    "such that each number between $0$ and $N-1$ appears in at least one list\n",
    "\n",
    "$$\\forall n \\in [0, N-1] \\ \\exists i : n \\in L_{s_i}$$\n",
    "\n",
    "and that the total numbers of elements in all $L_{s_i}$ is minimum. ($\\min \\sum_i^{n}len(L_{s_i})$)\n",
    "\n",
    "## Instructions\n",
    "\n",
    "* Create the directory `lab1` inside the course repo (the one you registered with Andrea)\n",
    "* Put a `README.md` and your solution (all the files, code and auxiliary data if needed)\n",
    "* Use `problem` to generate the problems with different $N$\n",
    "* In the `README.md`, report the the total numbers of elements in $L_{s_i}$ for problem with $N \\in [5, 10, 20, 100, 500, 1000]$ and the total number on $nodes$ visited during the search. Use `seed=42`.\n",
    "* Use `GitHub Issues` to peer review others' lab\n",
    "\n",
    "## Notes\n",
    "\n",
    "* Working in group is not only allowed, but recommended (see: [Ubuntu](https://en.wikipedia.org/wiki/Ubuntu_philosophy) and [Cooperative Learning](https://files.eric.ed.gov/fulltext/EJ1096789.pdf)). Collaborations must be explicitly declared in the `README.md`.\n",
    "* [Yanking](https://www.emacswiki.org/emacs/KillingAndYanking) from the internet is allowed, but sources must be explicitly declared in the `README.md`.\n",
    "\n",
    "**Deadline**\n",
    "\n",
    "* Sunday, October 16th 23:59:59 for the working solution\n",
    "* Sunday, October 23rd 23:59:59 for the peer reviews"
   ]
  },
  {
   "cell_type": "code",
   "execution_count": 116,
   "metadata": {},
   "outputs": [],
   "source": [
    "import random\n",
    "import numpy as np\n",
    "import pandas as pd\n",
    "import logging\n",
    "import pprint\n",
    "from utils import search, State\n",
    "logging.basicConfig(format=\"%(asctime)s %(levelname)s: %(message)s\")"
   ]
  },
  {
   "cell_type": "code",
   "execution_count": 117,
   "metadata": {},
   "outputs": [],
   "source": [
    "DEBUG = False\n",
    "logging.getLogger().setLevel(logging.DEBUG if DEBUG else logging.INFO)"
   ]
  },
  {
   "cell_type": "code",
   "execution_count": 118,
   "metadata": {},
   "outputs": [],
   "source": [
    "def problem(N, seed=None):\n",
    "    random.seed(seed)\n",
    "    return [\n",
    "        list(set(random.randint(0, N - 1) for n in range(random.randint(N // 5, N // 2))))\n",
    "        for n in range(random.randint(N, N * 5))\n",
    "    ]"
   ]
  },
  {
   "cell_type": "code",
   "execution_count": 119,
   "metadata": {},
   "outputs": [],
   "source": [
    "N = 10000\n",
    "SEED = 42"
   ]
  },
  {
   "cell_type": "code",
   "execution_count": 120,
   "metadata": {},
   "outputs": [],
   "source": [
    "P = problem(N, SEED)\n",
    "U = np.arange(N)\n",
    "UxS = np.zeros((N, len(P)), dtype=np.uint8)\n",
    "for i, p in enumerate(P):\n",
    "    UxS[p, i] = 1\n",
    "\n",
    "# pprint.pprint(P)"
   ]
  },
  {
   "cell_type": "code",
   "execution_count": 121,
   "metadata": {},
   "outputs": [],
   "source": [
    "if not UxS.any(axis=1).all():\n",
    "    logging.info(\"Impossible\")\n",
    "    exit"
   ]
  },
  {
   "cell_type": "code",
   "execution_count": 122,
   "metadata": {},
   "outputs": [],
   "source": [
    "INITIAL_STATE = State(np.array([], dtype=np.uint8))"
   ]
  },
  {
   "cell_type": "code",
   "execution_count": 123,
   "metadata": {},
   "outputs": [],
   "source": [
    "def possible_actions(state: State):\n",
    "        for c in range(UxS.shape[1]):\n",
    "            data = UxS[:, c]\n",
    "            if len(state.data) == 0 or not (data == state.data).all(axis=1).any():\n",
    "                logging.debug(f\"Next action: {data}\")\n",
    "                yield data\n",
    "\n",
    "def result(state: State, action):\n",
    "    if len(state.data) == 0:\n",
    "        return State(np.array([action], dtype=np.uint8))\n",
    "    return State(np.logical_or(state.data, action))\n",
    "\n",
    "def goal_test(state: State):\n",
    "    if len(state.data) == 0:\n",
    "        return False    \n",
    "    return state.data.any(axis=0).all()"
   ]
  },
  {
   "cell_type": "code",
   "execution_count": 124,
   "metadata": {},
   "outputs": [
    {
     "name": "stderr",
     "output_type": "stream",
     "text": [
      "2022-10-14 01:56:28,684 INFO: Found a solution in 13 steps; visited 180,826 states\n"
     ]
    }
   ],
   "source": [
    "parent_state = dict()\n",
    "state_cost = dict()\n",
    "\n",
    "\n",
    "def h(state):\n",
    "    return N - np.sum(state.data)\n",
    "\n",
    "\n",
    "final = search(\n",
    "    INITIAL_STATE,\n",
    "    goal_test=goal_test,\n",
    "    parent_state=parent_state,\n",
    "    state_cost=state_cost,\n",
    "    priority_function=lambda s: state_cost[s] + h(s),\n",
    "    unit_cost=lambda a: 1,\n",
    "    possible_actions=possible_actions,\n",
    "    result=result\n",
    ")"
   ]
  }
 ],
 "metadata": {
  "kernelspec": {
   "display_name": "Python 3.10.7 ('.venv': venv)",
   "language": "python",
   "name": "python3"
  },
  "language_info": {
   "codemirror_mode": {
    "name": "ipython",
    "version": 3
   },
   "file_extension": ".py",
   "mimetype": "text/x-python",
   "name": "python",
   "nbconvert_exporter": "python",
   "pygments_lexer": "ipython3",
   "version": "3.10.7"
  },
  "vscode": {
   "interpreter": {
    "hash": "1f6b124141497e8550d29bbaca34848571f9372956dfd6adff4e1c66b6950e25"
   }
  }
 },
 "nbformat": 4,
 "nbformat_minor": 2
}
