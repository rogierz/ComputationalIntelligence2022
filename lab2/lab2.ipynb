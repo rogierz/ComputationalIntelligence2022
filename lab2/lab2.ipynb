{
 "cells": [
  {
   "cell_type": "code",
   "execution_count": 295,
   "metadata": {},
   "outputs": [],
   "source": [
    "import random\n",
    "import numpy as np\n",
    "from numpy.typing import NDArray\n",
    "import logging\n",
    "from dataclasses import dataclass\n",
    "logging.basicConfig(format=\"%(asctime)s %(levelname)s: %(message)s\")"
   ]
  },
  {
   "cell_type": "code",
   "execution_count": 296,
   "metadata": {},
   "outputs": [],
   "source": [
    "DEBUG = False\n",
    "logging.getLogger().setLevel(logging.DEBUG if DEBUG else logging.INFO)"
   ]
  },
  {
   "cell_type": "code",
   "execution_count": 297,
   "metadata": {},
   "outputs": [],
   "source": [
    "from typing import Optional\n",
    "\n",
    "\n",
    "def tournament(population, k=2):\n",
    "    return max(random.choices(list(population.keys()), k=k), key=lambda x: x.fitness)\n",
    "\n",
    "class Individual:\n",
    "    P: Optional[NDArray]\n",
    "    N: Optional[int]\n",
    "\n",
    "    def __init__(self, *, included_lists: NDArray, P: NDArray, N: int):\n",
    "        self.included_lists = included_lists\n",
    "        self._len = sum(map(lambda x: len(x), Individual.P[np.where(self.included_lists == 1)[0]]))\n",
    "        self.covered_numbers = self._compute_coveredNumbers()\n",
    "        self.isValid = self.covered_numbers.any()\n",
    "        self.isGoal = (self.covered_numbers == 1).all()\n",
    "        self.bloat = (len(self) - N)\n",
    "        self.fitness = self._compute_fitness()\n",
    "\n",
    "    def __repr__(self):\n",
    "        return str(self.included_lists)\n",
    "\n",
    "    def __len__(self):\n",
    "        return self._len\n",
    "    \n",
    "    def __hash__(self):\n",
    "        return hash(bytes(self.included_lists))\n",
    "\n",
    "    def __matmul__(self, other):\n",
    "        '''Performs crossover between self and other'''\n",
    "        assert (Individual.P == other.P).all(), \"Two invididuals must belong to the same problem!\"\n",
    "        assert Individual.N == other.N, \"Two invididuals must belong to the same problem!\"\n",
    "        index = np.random.randint(len(Individual.P))\n",
    "        new_included_lists = np.hstack([self.included_lists[:index], other.included_lists[index:]])\n",
    "        return Individual(included_lists=new_included_lists, P=Individual.P, N=Individual.N)\n",
    "\n",
    "    def __invert__(self):\n",
    "        new_included_lists = self.included_lists[:]\n",
    "        indexes = np.random.choice([True, False], p=[0.7, 0.3], size=len(new_included_lists))\n",
    "        new_included_lists[indexes] = 1 - new_included_lists[indexes]\n",
    "        return Individual(included_lists=new_included_lists, P=Individual.P, N=Individual.N)\n",
    "\n",
    "    def _list_to_binary(self, list: NDArray):\n",
    "        binary_mapping = np.zeros(Individual.N)\n",
    "        binary_mapping[list] = 1\n",
    "        return binary_mapping\n",
    "\n",
    "    def _compute_coveredNumbers(self):\n",
    "        covered_numbers = np.zeros(Individual.N)\n",
    "        for i in np.where(self.included_lists == 1)[0]:\n",
    "            binary_mapping = self._list_to_binary(Individual.P[i])\n",
    "            covered_numbers = np.logical_or(covered_numbers, binary_mapping).astype(np.int32)\n",
    "        return covered_numbers\n",
    "\n",
    "    def _compute_fitness(self):\n",
    "        individual_metrics = np.array([sum(self.covered_numbers), self.bloat])\n",
    "        individual_objective = np.array([Individual.N, 0])\n",
    "        distance = np.sqrt(np.sum((individual_metrics - individual_objective)**2))\n",
    "        return -distance\n",
    "\n",
    "    @classmethod\n",
    "    def init(cls, P, N):\n",
    "        cls.P = P\n",
    "        cls.N = N"
   ]
  },
  {
   "cell_type": "code",
   "execution_count": 298,
   "metadata": {},
   "outputs": [],
   "source": [
    "def problem(N, seed=None):\n",
    "    random.seed(seed)\n",
    "    return [\n",
    "        list(set(random.randint(0, N - 1) for n in range(random.randint(N // 5, N // 2))))\n",
    "        for n in range(random.randint(N, N * 5))\n",
    "    ]"
   ]
  },
  {
   "cell_type": "code",
   "execution_count": 299,
   "metadata": {},
   "outputs": [],
   "source": [
    "SEED = 42\n",
    "MAX_COUNT_GENERATION = 100\n",
    "MAX_PATIENCE = 5"
   ]
  },
  {
   "cell_type": "code",
   "execution_count": 300,
   "metadata": {},
   "outputs": [
    {
     "name": "stderr",
     "output_type": "stream",
     "text": [
      "2022-11-06 13:43:15,707 INFO: Starting with N: 5, len(P): 32\n",
      "2022-11-06 13:43:17,395 INFO: Starting fittest, fitness: -0.00, W: 5, goal: True\n",
      "2022-11-06 13:43:17,396 INFO: ----------- [Generation: 1/100] -----------\n"
     ]
    },
    {
     "ename": "KeyboardInterrupt",
     "evalue": "",
     "output_type": "error",
     "traceback": [
      "\u001b[0;31m---------------------------------------------------------------------------\u001b[0m",
      "\u001b[0;31mKeyboardInterrupt\u001b[0m                         Traceback (most recent call last)",
      "Cell \u001b[0;32mIn [300], line 31\u001b[0m\n\u001b[1;32m     29\u001b[0m offspring \u001b[39m=\u001b[39m \u001b[39mdict\u001b[39m()\n\u001b[1;32m     30\u001b[0m \u001b[39mfor\u001b[39;00m _ \u001b[39min\u001b[39;00m \u001b[39mrange\u001b[39m(OFFSPRING_SIZE):\n\u001b[0;32m---> 31\u001b[0m     p1, p2 \u001b[39m=\u001b[39m tournament(population\u001b[39m=\u001b[39mpopulation, k\u001b[39m=\u001b[39mPOPULATION_SIZE\u001b[39m/\u001b[39m\u001b[39m/\u001b[39m\u001b[39m3\u001b[39m), tournament(population\u001b[39m=\u001b[39;49mpopulation, k\u001b[39m=\u001b[39;49mPOPULATION_SIZE\u001b[39m/\u001b[39;49m\u001b[39m/\u001b[39;49m\u001b[39m3\u001b[39;49m)\n\u001b[1;32m     32\u001b[0m     o \u001b[39m=\u001b[39m p1 \u001b[39m@\u001b[39m p2 \u001b[39m# crossover\u001b[39;00m\n\u001b[1;32m     33\u001b[0m     \u001b[39mif\u001b[39;00m np\u001b[39m.\u001b[39mrandom\u001b[39m.\u001b[39mrand() \u001b[39m<\u001b[39m \u001b[39m.6\u001b[39m:\n",
      "Cell \u001b[0;32mIn [297], line 5\u001b[0m, in \u001b[0;36mtournament\u001b[0;34m(population, k)\u001b[0m\n\u001b[1;32m      4\u001b[0m \u001b[39mdef\u001b[39;00m \u001b[39mtournament\u001b[39m(population, k\u001b[39m=\u001b[39m\u001b[39m2\u001b[39m):\n\u001b[0;32m----> 5\u001b[0m     \u001b[39mreturn\u001b[39;00m \u001b[39mmax\u001b[39m(random\u001b[39m.\u001b[39;49mchoices(\u001b[39mlist\u001b[39;49m(population\u001b[39m.\u001b[39;49mkeys()), k\u001b[39m=\u001b[39;49mk), key\u001b[39m=\u001b[39m\u001b[39mlambda\u001b[39;00m x: x\u001b[39m.\u001b[39mfitness)\n",
      "File \u001b[0;32m/usr/lib/python3.10/random.py:519\u001b[0m, in \u001b[0;36mRandom.choices\u001b[0;34m(self, population, weights, cum_weights, k)\u001b[0m\n\u001b[1;32m    517\u001b[0m     floor \u001b[39m=\u001b[39m _floor\n\u001b[1;32m    518\u001b[0m     n \u001b[39m+\u001b[39m\u001b[39m=\u001b[39m \u001b[39m0.0\u001b[39m    \u001b[39m# convert to float for a small speed improvement\u001b[39;00m\n\u001b[0;32m--> 519\u001b[0m     \u001b[39mreturn\u001b[39;00m [population[floor(random() \u001b[39m*\u001b[39m n)] \u001b[39mfor\u001b[39;00m i \u001b[39min\u001b[39;00m _repeat(\u001b[39mNone\u001b[39;00m, k)]\n\u001b[1;32m    520\u001b[0m \u001b[39mtry\u001b[39;00m:\n\u001b[1;32m    521\u001b[0m     cum_weights \u001b[39m=\u001b[39m \u001b[39mlist\u001b[39m(_accumulate(weights))\n",
      "File \u001b[0;32m/usr/lib/python3.10/random.py:519\u001b[0m, in \u001b[0;36m<listcomp>\u001b[0;34m(.0)\u001b[0m\n\u001b[1;32m    517\u001b[0m     floor \u001b[39m=\u001b[39m _floor\n\u001b[1;32m    518\u001b[0m     n \u001b[39m+\u001b[39m\u001b[39m=\u001b[39m \u001b[39m0.0\u001b[39m    \u001b[39m# convert to float for a small speed improvement\u001b[39;00m\n\u001b[0;32m--> 519\u001b[0m     \u001b[39mreturn\u001b[39;00m [population[floor(random() \u001b[39m*\u001b[39;49m n)] \u001b[39mfor\u001b[39;00m i \u001b[39min\u001b[39;00m _repeat(\u001b[39mNone\u001b[39;00m, k)]\n\u001b[1;32m    520\u001b[0m \u001b[39mtry\u001b[39;00m:\n\u001b[1;32m    521\u001b[0m     cum_weights \u001b[39m=\u001b[39m \u001b[39mlist\u001b[39m(_accumulate(weights))\n",
      "\u001b[0;31mKeyboardInterrupt\u001b[0m: "
     ]
    }
   ],
   "source": [
    "for N in [20, 100, 500]:\n",
    "    P = np.array(problem(N, seed=42), dtype=object)\n",
    "    logging.info(f\"Starting with N: {N}, len(P): {sum(map(lambda x: len(x), P))}\")\n",
    "    Individual.init(P, N)\n",
    "    POPULATION_SIZE = max(N*5, 5000)\n",
    "    OFFSPRING_SIZE = POPULATION_SIZE*4\n",
    "    population = dict()\n",
    "\n",
    "    old_fittest = None\n",
    "    fittest = None\n",
    "\n",
    "    for genome in [np.fromiter((np.random.choice([1, 0], p=[0.1, 0.9]) for _ in P), dtype=np.int8) for _ in range(POPULATION_SIZE)]:\n",
    "        individual = Individual(included_lists=genome, P=P, N=N)\n",
    "        if individual.isValid and individual not in population:\n",
    "            # adding individual in population, the dict is used to leverage the fast in (not in) operator and to have just one copy of the same individual\n",
    "            population[individual] = None\n",
    "            # keeping track of fittest individual discovered so far\n",
    "            if fittest is None or individual.fitness > fittest.fitness:\n",
    "                fittest = individual\n",
    "                # initialziation of old_fittest\n",
    "                old_fittest = fittest\n",
    "\n",
    "    logging.info(f\"Starting fittest, fitness: {fittest.fitness:.2f}, W: {len(fittest)}, goal: {fittest.isGoal}\")\n",
    "    count_generation = 0\n",
    "    patience = 0\n",
    "    while count_generation < MAX_COUNT_GENERATION and patience < MAX_PATIENCE:\n",
    "        count_generation += 1\n",
    "        logging.info(f\"----------- [Generation: {count_generation}/{MAX_COUNT_GENERATION}] -----------\")\n",
    "        offspring = dict()\n",
    "        for _ in range(OFFSPRING_SIZE):\n",
    "            p1, p2 = tournament(population=population, k=POPULATION_SIZE//3), tournament(population=population, k=POPULATION_SIZE//3)\n",
    "            o = p1 @ p2 # crossover\n",
    "            if np.random.rand() < .6:\n",
    "                o = ~o # mutation\n",
    "            # add generated individual into population (strategy 2 GA)\n",
    "            if o.isValid:\n",
    "                population[o] = None\n",
    "        \n",
    "        # poplation as a sorted list to keep the population size constant\n",
    "        population = sorted(population.keys(), key=lambda x: x.fitness, reverse=True)[:POPULATION_SIZE]\n",
    "\n",
    "        old_fittest = fittest\n",
    "        if population[0].fitness > fittest.fitness:\n",
    "            fittest = population[0]\n",
    "            logging.info(f\"New fittest found. Fitness: {fittest.fitness:.2f}, W: {len(fittest)}, goal: {fittest.isGoal}\")\n",
    "\n",
    "        if old_fittest == fittest:\n",
    "            logging.info(f\"No improvement, patience {patience}/{MAX_PATIENCE}\")\n",
    "            patience +=1\n",
    "        \n",
    "        population = {k: None for k in population}\n",
    "\n",
    "    logging.info(f\"N={N}, W={len(fittest)}, bloat={fittest.bloat/N*100:.2f}%, {fittest.isGoal}\")"
   ]
  }
 ],
 "metadata": {
  "kernelspec": {
   "display_name": "Python 3.10.7 64-bit",
   "language": "python",
   "name": "python3"
  },
  "language_info": {
   "codemirror_mode": {
    "name": "ipython",
    "version": 3
   },
   "file_extension": ".py",
   "mimetype": "text/x-python",
   "name": "python",
   "nbconvert_exporter": "python",
   "pygments_lexer": "ipython3",
   "version": "3.10.7"
  },
  "orig_nbformat": 4,
  "vscode": {
   "interpreter": {
    "hash": "e7370f93d1d0cde622a1f8e1c04877d8463912d04d973331ad4851f04de6915a"
   }
  }
 },
 "nbformat": 4,
 "nbformat_minor": 2
}
