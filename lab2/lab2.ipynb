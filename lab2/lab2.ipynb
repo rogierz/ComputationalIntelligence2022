{
 "cells": [
  {
   "cell_type": "code",
   "execution_count": 119,
   "metadata": {},
   "outputs": [],
   "source": [
    "import random\n",
    "import numpy as np\n",
    "from numpy.typing import NDArray\n",
    "import logging\n",
    "from dataclasses import dataclass\n",
    "logging.basicConfig(format=\"%(asctime)s %(levelname)s: %(message)s\")"
   ]
  },
  {
   "cell_type": "code",
   "execution_count": 120,
   "metadata": {},
   "outputs": [],
   "source": [
    "DEBUG = False\n",
    "logging.getLogger().setLevel(logging.DEBUG if DEBUG else logging.INFO)"
   ]
  },
  {
   "cell_type": "code",
   "execution_count": 121,
   "metadata": {},
   "outputs": [],
   "source": [
    "from typing import Optional\n",
    "\n",
    "\n",
    "def tournament(population, k=2):\n",
    "    return max(random.choices(list(population), k=k), key=lambda x: x.fitness)\n",
    "\n",
    "class Individual:\n",
    "    P: Optional[NDArray]\n",
    "    N: Optional[int]\n",
    "\n",
    "    def __init__(self, *, included_lists: NDArray):\n",
    "        self.included_lists = included_lists\n",
    "        self._len = sum(map(lambda x: len(x), Individual.P[np.where(self.included_lists == 1)[0]]))\n",
    "        self.covered_numbers = self._compute_coveredNumbers()\n",
    "        self.isValid =  (self.covered_numbers == 1).all()\n",
    "        self.isGoal =  (self.covered_numbers == 1).all()\n",
    "        self.bloat = (len(self) - self.N)\n",
    "        self.fitness = self._compute_fitness()\n",
    "\n",
    "    def __repr__(self):\n",
    "        return str(self.included_lists)\n",
    "\n",
    "    def __len__(self):\n",
    "        return self._len\n",
    "    \n",
    "    def __hash__(self):\n",
    "        return hash(bytes(self.included_lists))\n",
    "\n",
    "    def __matmul__(self, other):\n",
    "        '''Performs crossover between self and other'''\n",
    "        assert (Individual.P == other.P).all(), \"Two invididuals must belong to the same problem!\"\n",
    "        assert Individual.N == other.N, \"Two invididuals must belong to the same problem!\"\n",
    "        index = np.random.randint(len(Individual.P))\n",
    "        new_included_lists = np.hstack([self.included_lists[:index], other.included_lists[index:]])\n",
    "        return Individual(included_lists=new_included_lists)\n",
    "\n",
    "    def __invert__(self):\n",
    "        new_included_lists = self.included_lists[:]\n",
    "        indexes = np.random.choice([True, False], p=[0.2, 0.8], size=len(new_included_lists))\n",
    "        new_included_lists[indexes] = 1 - new_included_lists[indexes]\n",
    "        return Individual(included_lists=new_included_lists)\n",
    "\n",
    "    def _list_to_binary(self, list: NDArray):\n",
    "        binary_mapping = np.zeros(Individual.N, dtype=bool)\n",
    "        binary_mapping[list] = True\n",
    "        return binary_mapping\n",
    "\n",
    "    def _compute_coveredNumbers(self):\n",
    "        covered_numbers = np.zeros(Individual.N, dtype=bool)\n",
    "        for i in np.where(self.included_lists == 1)[0]:\n",
    "            binary_mapping = self._list_to_binary(Individual.P[i])\n",
    "            covered_numbers = np.logical_or(covered_numbers, binary_mapping).astype(bool)\n",
    "        return covered_numbers\n",
    "\n",
    "    def _compute_fitness(self):\n",
    "        if sum(self.covered_numbers) != Individual.N:\n",
    "            return np.NINF\n",
    "        individual_metrics = np.array([sum(self.covered_numbers), self.bloat])\n",
    "        individual_objective = np.array([Individual.N, 0])\n",
    "        fitness = -np.sqrt(np.sum((individual_metrics - individual_objective)**2))\n",
    "        return fitness\n",
    "\n",
    "    @classmethod\n",
    "    def init(cls, P, N):\n",
    "        cls.P = P\n",
    "        cls.N = N"
   ]
  },
  {
   "cell_type": "code",
   "execution_count": 122,
   "metadata": {},
   "outputs": [],
   "source": [
    "def problem(N, seed=None):\n",
    "    random.seed(seed)\n",
    "    return [\n",
    "        list(set(random.randint(0, N - 1) for n in range(random.randint(N // 5, N // 2))))\n",
    "        for n in range(random.randint(N, N * 5))\n",
    "    ]"
   ]
  },
  {
   "cell_type": "code",
   "execution_count": 123,
   "metadata": {},
   "outputs": [],
   "source": [
    "SEED = 42\n",
    "MAX_COUNT_GENERATION = 100\n",
    "MAX_PATIENCE = 50"
   ]
  },
  {
   "cell_type": "code",
   "execution_count": 124,
   "metadata": {},
   "outputs": [
    {
     "name": "stderr",
     "output_type": "stream",
     "text": [
      "2022-11-12 16:18:16,611 INFO: Starting with N: 100, len(P): 12519\n",
      "2022-11-12 16:18:16,636 INFO: Starting fittest, fitness: -inf, W: 18, goal: False\n",
      "2022-11-12 16:18:16,820 INFO: [10/100] Fitness: -289.00, W: 389, goal: True\n",
      "2022-11-12 16:18:16,992 INFO: [20/100] Fitness: -236.00, W: 336, goal: True\n",
      "2022-11-12 16:18:17,155 INFO: [30/100] Fitness: -189.00, W: 289, goal: True\n",
      "2022-11-12 16:18:17,325 INFO: [40/100] Fitness: -176.00, W: 276, goal: True\n",
      "2022-11-12 16:18:17,491 INFO: [50/100] Fitness: -176.00, W: 276, goal: True\n",
      "2022-11-12 16:18:17,677 INFO: [60/100] Fitness: -176.00, W: 276, goal: True\n",
      "2022-11-12 16:18:17,888 INFO: [70/100] Fitness: -176.00, W: 276, goal: True\n",
      "2022-11-12 16:18:18,105 INFO: [80/100] Fitness: -176.00, W: 276, goal: True\n",
      "2022-11-12 16:18:18,267 INFO: N=100, W=276, bloat=176.00%, True\n",
      "2022-11-12 16:18:18,459 INFO: Starting with N: 500, len(P): 268253\n",
      "2022-11-12 16:18:18,606 INFO: Starting fittest, fitness: -inf, W: 111, goal: False\n",
      "2022-11-12 16:18:20,569 INFO: [10/100] Fitness: -2744.00, W: 3244, goal: True\n",
      "2022-11-12 16:18:21,894 INFO: [20/100] Fitness: -2744.00, W: 3244, goal: True\n",
      "2022-11-12 16:18:23,444 INFO: [30/100] Fitness: -2744.00, W: 3244, goal: True\n",
      "2022-11-12 16:18:25,153 INFO: [40/100] Fitness: -2744.00, W: 3244, goal: True\n",
      "2022-11-12 16:18:26,989 INFO: [50/100] Fitness: -2744.00, W: 3244, goal: True\n",
      "2022-11-12 16:18:27,639 INFO: N=500, W=3244, bloat=548.80%, True\n",
      "2022-11-12 16:18:28,390 INFO: Starting with N: 1000, len(P): 1060214\n",
      "2022-11-12 16:18:28,923 INFO: Starting fittest, fitness: -inf, W: 219, goal: False\n",
      "2022-11-12 16:18:34,777 INFO: [10/100] Fitness: -6565.00, W: 7565, goal: True\n",
      "2022-11-12 16:18:39,151 INFO: [20/100] Fitness: -3947.00, W: 4947, goal: True\n",
      "2022-11-12 16:18:43,248 INFO: [30/100] Fitness: -3947.00, W: 4947, goal: True\n",
      "2022-11-12 16:18:48,084 INFO: [40/100] Fitness: -3947.00, W: 4947, goal: True\n",
      "2022-11-12 16:18:54,126 INFO: [50/100] Fitness: -3947.00, W: 4947, goal: True\n",
      "2022-11-12 16:19:01,001 INFO: [60/100] Fitness: -3947.00, W: 4947, goal: True\n",
      "2022-11-12 16:19:05,130 INFO: N=1000, W=4947, bloat=394.70%, True\n"
     ]
    }
   ],
   "source": [
    "results = {}\n",
    "for N in [100, 500, 1000]:\n",
    "    P = np.array(problem(N, seed=42), dtype=object)\n",
    "    np.random.seed(None)\n",
    "    logging.info(f\"Starting with N: {N}, len(P): {sum(map(lambda x: len(x), P))}\")\n",
    "    Individual.init(P, N)\n",
    "    POPULATION_SIZE = 200\n",
    "    OFFSPRING_SIZE = POPULATION_SIZE//4\n",
    "    population = set()\n",
    "\n",
    "    old_fittest = None\n",
    "    fittest = None\n",
    "    initial_population = np.eye(len(P), dtype=bool)\n",
    "    #for genome in (np.fromiter((np.random.choice([1, 0]) for _ in P), dtype=np.int8) for  in range(POPULATION_SIZE)):\n",
    "    for i in range(len(P)):\n",
    "        genome = initial_population[i]\n",
    "        individual = Individual(included_lists=genome)\n",
    "        if individual not in population:\n",
    "            # adding individual in population, the dict is used to leverage the fast in (not in) operator and to have just one copy of the same individual\n",
    "            population.add(individual)\n",
    "            # keeping track of fittest individual discovered so far\n",
    "            if fittest is None or individual.fitness > fittest.fitness:\n",
    "                fittest = individual\n",
    "                # initialziation of old_fittest\n",
    "                old_fittest = fittest\n",
    "\n",
    "    logging.info(f\"Starting fittest, fitness: {fittest.fitness:.2f}, W: {len(fittest)}, goal: {fittest.isGoal}\")\n",
    "    count_generation = 0\n",
    "    patience = 0\n",
    "    while count_generation < MAX_COUNT_GENERATION and patience < MAX_PATIENCE:\n",
    "        count_generation += 1\n",
    "        logging.debug(f\"----------- [Generation: {count_generation}/{MAX_COUNT_GENERATION}] -----------\")\n",
    "\n",
    "        offspring = set()\n",
    "        for _ in range(OFFSPRING_SIZE): \n",
    "            p1, p2 = tournament(population=population, k=5), tournament(population=population, k=5)\n",
    "            o = p1 @ p2 # crossover\n",
    "            # always add the generated offspring\n",
    "            offspring.add(o)\n",
    "\n",
    "            # but let some space to randomness\n",
    "            if np.random.rand() < .2:\n",
    "                o = ~o # mutation\n",
    "                offspring.add(o)\n",
    "        \n",
    "        # add offspring into population\n",
    "        population |= offspring\n",
    "        # poplation as a sorted list to keep the population size constant\n",
    "        population = sorted(list(population), key=lambda x: x.fitness, reverse=True)[:POPULATION_SIZE]\n",
    "\n",
    "        old_fittest = fittest\n",
    "        if population[0].fitness > fittest.fitness:\n",
    "            fittest = population[0]\n",
    "            logging.debug(f\"New fittest found. Fitness: {fittest.fitness:.2f}, W: {len(fittest)}, goal: {fittest.isGoal}\")\n",
    "            patience = 0\n",
    "\n",
    "        if old_fittest == fittest:\n",
    "            logging.debug(f\"No improvement, patience {patience}/{MAX_PATIENCE}\")\n",
    "            patience +=1\n",
    "        \n",
    "\n",
    "        if DEBUG is False and count_generation % 10 == 0:\n",
    "            logging.info(f\"[{count_generation}/{MAX_COUNT_GENERATION}] Fitness: {fittest.fitness:.2f}, W: {len(fittest)}, goal: {fittest.isGoal}\")\n",
    "            \n",
    "        population = set(population)\n",
    "\n",
    "    logging.info(f\"N={N}, W={len(fittest)}, bloat={fittest.bloat/N*100:.2f}%, {fittest.isGoal}\")\n",
    "    results[N] = fittest"
   ]
  },
  {
   "cell_type": "code",
   "execution_count": 125,
   "metadata": {},
   "outputs": [
    {
     "name": "stderr",
     "output_type": "stream",
     "text": [
      "2022-11-12 16:19:05,162 INFO: N: 100, 276, True\n",
      "2022-11-12 16:19:05,164 INFO: N: 500, 3244, True\n",
      "2022-11-12 16:19:05,164 INFO: N: 1000, 4947, True\n"
     ]
    }
   ],
   "source": [
    "for (N, individual) in results.items():\n",
    "    logging.info(f\"N: {N}, {len(individual)}, {individual.isGoal}\")"
   ]
  }
 ],
 "metadata": {
  "kernelspec": {
   "display_name": "Python 3.10.8 ('.venv': poetry)",
   "language": "python",
   "name": "python3"
  },
  "language_info": {
   "codemirror_mode": {
    "name": "ipython",
    "version": 3
   },
   "file_extension": ".py",
   "mimetype": "text/x-python",
   "name": "python",
   "nbconvert_exporter": "python",
   "pygments_lexer": "ipython3",
   "version": "3.10.8"
  },
  "orig_nbformat": 4,
  "vscode": {
   "interpreter": {
    "hash": "1f6b124141497e8550d29bbaca34848571f9372956dfd6adff4e1c66b6950e25"
   }
  }
 },
 "nbformat": 4,
 "nbformat_minor": 2
}
