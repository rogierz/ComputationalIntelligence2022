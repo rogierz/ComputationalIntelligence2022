{
 "cells": [
  {
   "cell_type": "code",
   "execution_count": 153,
   "metadata": {},
   "outputs": [],
   "source": [
    "import random\n",
    "import numpy as np\n",
    "from numpy.typing import NDArray\n",
    "import logging\n",
    "from dataclasses import dataclass\n",
    "logging.basicConfig(format=\"%(asctime)s %(levelname)s: %(message)s\")"
   ]
  },
  {
   "cell_type": "code",
   "execution_count": 154,
   "metadata": {},
   "outputs": [],
   "source": [
    "DEBUG = False\n",
    "logging.getLogger().setLevel(logging.DEBUG if DEBUG else logging.INFO)"
   ]
  },
  {
   "cell_type": "code",
   "execution_count": 155,
   "metadata": {},
   "outputs": [],
   "source": [
    "@dataclass\n",
    "class RouletteWheel:\n",
    "    population: NDArray\n",
    "\n",
    "    def spin(self, k=2):\n",
    "        # softmax\n",
    "        p = np.exp(np.fromiter(map(lambda x: x.fitness, self.population), dtype=float))\n",
    "        p = p / p.sum()\n",
    "        return np.random.choice(self.population, k, p = p)"
   ]
  },
  {
   "cell_type": "code",
   "execution_count": 156,
   "metadata": {},
   "outputs": [],
   "source": [
    "class Individual:\n",
    "\n",
    "    def __init__(self, *, included_lists: NDArray, P: NDArray, N: int):\n",
    "        self.P = P\n",
    "        self.N = N\n",
    "        self.included_lists = included_lists\n",
    "\n",
    "    def __repr__(self):\n",
    "        return str(self.included_lists)\n",
    "\n",
    "    def __len__(self):\n",
    "        return sum(map(lambda x: len(x), self.P[np.where(self.included_lists == 1)[0]]))\n",
    "        \n",
    "    @property    \n",
    "    def fitness(self):\n",
    "        max_bloat = sum(map(lambda x: len(x), self.P))\n",
    "        return sum(self.coveredNumbers) + (max_bloat - len(self))\n",
    "\n",
    "    @property\n",
    "    def isInvalid(self):\n",
    "        return not self.coveredNumbers.any()\n",
    "\n",
    "    @property\n",
    "    def isGoal(self):\n",
    "        return (self.coveredNumbers == 1).all()\n",
    "\n",
    "    def __matmul__(self, other):\n",
    "        '''Performs crossover between self and other'''\n",
    "        assert (self.P == other.P).all(), \"Two invididuals must belong to the same problem!\"\n",
    "        assert self.N == other.N, \"Two invididuals must belong to the same problem!\"\n",
    "        index = np.random.randint(len(self.P))\n",
    "        new_included_lists = np.hstack([self.included_lists[:index], other.included_lists[index:]])\n",
    "        return Individual(included_lists=new_included_lists, P=self.P, N=self.N)\n",
    "\n",
    "    def __invert__(self):\n",
    "        '''Mutates a random number of self genes'''\n",
    "        new_included_lists = self.included_lists[:]\n",
    "        index = np.random.randint(len(new_included_lists))\n",
    "        new_included_lists[index] = 1 - new_included_lists[index]\n",
    "        return Individual(included_lists=new_included_lists, P=self.P, N=self.N)\n",
    "\n",
    "    def _list_to_binary(self, list: NDArray):\n",
    "        binary_mapping = np.zeros(self.N)\n",
    "        binary_mapping[list] = 1\n",
    "        return binary_mapping\n",
    "\n",
    "    @property\n",
    "    def coveredNumbers(self):\n",
    "        covered_numbers = np.zeros(self.N)\n",
    "        for i in np.where(self.included_lists == 1)[0]:\n",
    "            binary_mapping = self._list_to_binary(self.P[i])\n",
    "            covered_numbers = np.logical_or(covered_numbers, binary_mapping).astype(np.int32)\n",
    "        return covered_numbers"
   ]
  },
  {
   "cell_type": "code",
   "execution_count": 157,
   "metadata": {},
   "outputs": [],
   "source": [
    "def problem(N, seed=None):\n",
    "    random.seed(seed)\n",
    "    return [\n",
    "        list(set(random.randint(0, N - 1) for n in range(random.randint(N // 5, N // 2))))\n",
    "        for n in range(random.randint(N, N * 5))\n",
    "    ]"
   ]
  },
  {
   "cell_type": "code",
   "execution_count": 158,
   "metadata": {},
   "outputs": [],
   "source": [
    "SEED = 42\n",
    "POPULATION_SIZE = 100\n",
    "OFFSPRING_SIZE = 50\n",
    "MAX_COUNT_GENERATION = 100"
   ]
  },
  {
   "cell_type": "code",
   "execution_count": 159,
   "metadata": {},
   "outputs": [
    {
     "name": "stderr",
     "output_type": "stream",
     "text": [
      "2022-10-31 16:33:30,748 INFO: 3, False\n",
      "2022-10-31 16:33:42,723 INFO: 4, False\n",
      "2022-10-31 16:33:42,744 INFO: 224, True\n"
     ]
    }
   ],
   "source": [
    "for N in [5, 10, 20]:\n",
    "    P = np.array(problem(N), dtype=object)\n",
    "\n",
    "    population = list()\n",
    "\n",
    "    for genome in [np.fromiter((random.choice([1, 0]) for _ in range(len(P))), dtype=np.int8) for _ in range(POPULATION_SIZE)]:\n",
    "        individual = Individual(included_lists=genome, P=P, N=N)\n",
    "        if not individual.isInvalid:\n",
    "            population.append(individual)\n",
    "\n",
    "    count_generation = 0\n",
    "    while count_generation < MAX_COUNT_GENERATION and not population[0].isGoal:\n",
    "        count_generation += 1\n",
    "        offspring = list()\n",
    "        roulette = RouletteWheel(population)\n",
    "        while len(offspring) < OFFSPRING_SIZE:\n",
    "            p1, p2 = roulette.spin(k=2)\n",
    "            o = p1 @ p2 # crossover\n",
    "            if np.random.rand() > .2:\n",
    "                o = ~o # mutation\n",
    "            if not individual.isInvalid:\n",
    "                offspring.append(o)\n",
    "        population += offspring\n",
    "        population = sorted(population, key=lambda i: i.fitness, reverse=True)[:POPULATION_SIZE]\n",
    "    \n",
    "    logging.info(f\"{len(population[0])}, {population[0].isGoal}\")"
   ]
  }
 ],
 "metadata": {
  "kernelspec": {
   "display_name": "Python 3.10.7 64-bit",
   "language": "python",
   "name": "python3"
  },
  "language_info": {
   "codemirror_mode": {
    "name": "ipython",
    "version": 3
   },
   "file_extension": ".py",
   "mimetype": "text/x-python",
   "name": "python",
   "nbconvert_exporter": "python",
   "pygments_lexer": "ipython3",
   "version": "3.10.7"
  },
  "orig_nbformat": 4,
  "vscode": {
   "interpreter": {
    "hash": "e7370f93d1d0cde622a1f8e1c04877d8463912d04d973331ad4851f04de6915a"
   }
  }
 },
 "nbformat": 4,
 "nbformat_minor": 2
}
