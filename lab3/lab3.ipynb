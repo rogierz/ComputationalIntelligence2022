{
 "cells": [
  {
   "cell_type": "markdown",
   "metadata": {
    "pycharm": {
     "name": "#%%\n"
    }
   },
   "source": [
    "# Lab 3: Policy Search\n",
    "\n",
    "## Task\n",
    "\n",
    "Write agents able to play [*Nim*](https://en.wikipedia.org/wiki/Nim), with an arbitrary number of rows and an upper bound $k$ on the number of objects that can be removed in a turn (a.k.a., *subtraction game*).\n",
    "\n",
    "The player **taking the last object wins**.\n",
    "\n",
    "* Task3.1: An agent using fixed rules based on *nim-sum* (i.e., an *expert system*)\n",
    "* Task3.2: An agent using evolved rules\n",
    "* Task3.3: An agent using minmax\n",
    "* Task3.4: An agent using reinforcement learning\n",
    "\n",
    "## Deadlines ([AoE](https://en.wikipedia.org/wiki/Anywhere_on_Earth))\n",
    "\n",
    "* Sunday, December 4th for Task3.1 and Task3.2\n",
    "* Sunday, December 11th for Task3.3 and Task3.4\n",
    "* Sunday, December 18th for all reviews"
   ]
  },
  {
   "cell_type": "code",
   "execution_count": 1,
   "metadata": {},
   "outputs": [],
   "source": [
    "import logging\n",
    "from collections import namedtuple\n",
    "import random\n",
    "from typing import Callable\n",
    "from copy import deepcopy\n",
    "from functools import reduce\n",
    "from operator import xor\n",
    "\n",
    "logging.basicConfig(format=\"%(asctime)s %(levelname)s: %(message)s\", level=logging.DEBUG)"
   ]
  },
  {
   "cell_type": "markdown",
   "metadata": {},
   "source": [
    "## The *Nim* and *Nimply* classes"
   ]
  },
  {
   "cell_type": "code",
   "execution_count": 2,
   "metadata": {},
   "outputs": [],
   "source": [
    "Nimply = namedtuple(\"Nimply\", \"row, num_objects\")\n",
    "Genome = namedtuple(\"Genome\", \"aggressivity, longest_first, how_many\")\n",
    "Individual = namedtuple(\"Individual\", \"genome, fitness\")"
   ]
  },
  {
   "cell_type": "code",
   "execution_count": 3,
   "metadata": {},
   "outputs": [],
   "source": [
    "class Nim:\n",
    "    def __init__(self, num_rows: int, k: int = None) -> None:\n",
    "        self._rows = [i * 2 + 1 for i in range(num_rows)]\n",
    "        self._k = k\n",
    "\n",
    "    def __bool__(self):\n",
    "        return sum(self._rows) > 0\n",
    "\n",
    "    def __str__(self):\n",
    "        return \"<\" + \" \".join(str(_) for _ in self._rows) + \">\"\n",
    "\n",
    "    @property\n",
    "    def rows(self) -> tuple:\n",
    "        return tuple(self._rows)\n",
    "\n",
    "    @property\n",
    "    def k(self) -> int:\n",
    "        return self._k\n",
    "\n",
    "    def nimming(self, ply: Nimply) -> None:\n",
    "        row, num_objects = ply     \n",
    "        assert self._rows[row] >= num_objects\n",
    "        assert self._k is None or num_objects <= self._k\n",
    "        self._rows[row] -= num_objects"
   ]
  },
  {
   "cell_type": "markdown",
   "metadata": {},
   "source": [
    "## Task 3.1"
   ]
  },
  {
   "cell_type": "code",
   "execution_count": 4,
   "metadata": {},
   "outputs": [],
   "source": [
    "def pure_random(state: Nim) -> Nimply:\n",
    "    row = random.choice([r for r, c in enumerate(state.rows) if c > 0])\n",
    "    num_objects = random.randint(1, state.rows[row])\n",
    "    return Nimply(row, num_objects)"
   ]
  },
  {
   "cell_type": "code",
   "execution_count": 5,
   "metadata": {},
   "outputs": [],
   "source": [
    "def gabriele(state: Nim) -> Nimply:\n",
    "    \"\"\"Pick always the maximum possible number of the lowest row\"\"\"\n",
    "    possible_moves = [(r, o) for r, c in enumerate(state.rows) for o in range(1, c + 1)]\n",
    "    return Nimply(*max(possible_moves, key=lambda m: (-m[0], m[1])))"
   ]
  },
  {
   "cell_type": "code",
   "execution_count": 6,
   "metadata": {},
   "outputs": [],
   "source": [
    "def nim_sum(state: Nim) -> int:\n",
    "    result = reduce(xor, state.rows)\n",
    "    return result\n",
    "\n",
    "\n",
    "def cook_status(state: Nim) -> dict:\n",
    "    cooked = dict()\n",
    "    cooked[\"possible_moves\"] = [\n",
    "        (r, o) for r, c in enumerate(state.rows) for o in range(1, c + 1) if state.k is None or o <= state.k\n",
    "    ]\n",
    "    # cooked[\"active_rows_number\"] = sum(o > 0 for o in state.rows)\n",
    "    # cooked[\"shortest_row\"] = min((x for x in enumerate(state.rows) if x[1] > 0), key=lambda y: y[1])[0]\n",
    "    # cooked[\"longest_row\"] = max((x for x in enumerate(state.rows)), key=lambda y: y[1])[0]\n",
    "    cooked[\"nim_sum\"] = nim_sum(state)\n",
    "\n",
    "    brute_force = list()\n",
    "    for m in cooked[\"possible_moves\"]:\n",
    "        tmp = deepcopy(state)\n",
    "        tmp.nimming(m)\n",
    "        brute_force.append((m, nim_sum(tmp)))\n",
    "    cooked[\"brute_force\"] = brute_force\n",
    "\n",
    "    return cooked"
   ]
  },
  {
   "cell_type": "code",
   "execution_count": 7,
   "metadata": {},
   "outputs": [],
   "source": [
    "def optimal_strategy(state: Nim) -> Nimply:\n",
    "    data = cook_status(state)\n",
    "    return next((bf for bf in data[\"brute_force\"] if bf[1] == 0), random.choice(data[\"brute_force\"]))[0]"
   ]
  },
  {
   "cell_type": "markdown",
   "metadata": {},
   "source": [
    "## Task 3.2"
   ]
  },
  {
   "cell_type": "code",
   "execution_count": 8,
   "metadata": {},
   "outputs": [],
   "source": [
    "def make_strategy(genome: dict) -> Callable:\n",
    "    def evolvable(state: Nim) -> Nimply:\n",
    "        data = cook_status(state)\n",
    "\n",
    "        if random.random() < genome[\"p\"]:\n",
    "            ply = Nimply(data[\"shortest_row\"], random.randint(1, state.rows[data[\"shortest_row\"]]))\n",
    "        else:\n",
    "            ply = Nimply(data[\"longest_row\"], random.randint(1, state.rows[data[\"longest_row\"]]))\n",
    "\n",
    "        return ply\n",
    "\n",
    "    return evolvable\n",
    "\n",
    "def make_strategy_g(genome: Genome) -> Callable:\n",
    "    def evolvable(state: Nim) -> Nimply:\n",
    "        # data = cook_status(state)\n",
    "        aggressive: bool = random.random() < genome.aggressivity\n",
    "        longest_first: bool = random.random() < genome.longest_first\n",
    "        how_many_coeff: float = genome.how_many\n",
    "\n",
    "        # Sort the rows based on the number of elements, the sort is descending or ascending based on if longest_first or not\n",
    "        row_indexes = sorted((i for i in range(len(state.rows)) if state.rows[i] > 0), key=lambda elem: state.rows[elem], reverse=longest_first)\n",
    "\n",
    "        # Select randomly one of the first 50% rows\n",
    "        selected_row_index = random.choice(row_indexes[:int(0.5*len(row_indexes))+1])\n",
    "\n",
    "        # Decide to take or nt at least 1 or half of the objects\n",
    "        take_at_least = 0 if not aggressive else state.rows[selected_row_index]//2\n",
    "        \n",
    "        # Decide to take or not a part of the remaining objects\n",
    "        take_n = max(1, min(take_at_least + int(state.rows[selected_row_index]//2*how_many_coeff), state.rows[selected_row_index]))\n",
    "        ply = Nimply(selected_row_index, take_n)\n",
    "\n",
    "        return ply\n",
    "\n",
    "    return evolvable"
   ]
  },
  {
   "cell_type": "code",
   "execution_count": 9,
   "metadata": {},
   "outputs": [],
   "source": [
    "NIM_SIZE = 10\n",
    "\n",
    "\n",
    "def evaluate(strategy: Callable, opponent: Callable=optimal_strategy, NUM_MATCHES=100) -> float:\n",
    "    strategies = (strategy, opponent)\n",
    "    won = 0\n",
    "\n",
    "    for m in range(NUM_MATCHES):\n",
    "        nim = Nim(NIM_SIZE)\n",
    "        player = 0\n",
    "        while nim:\n",
    "            ply = strategies[player](nim)\n",
    "            nim.nimming(ply)\n",
    "            player = 1 - player\n",
    "        if player == 1:\n",
    "            won += 1\n",
    "    return won / NUM_MATCHES"
   ]
  },
  {
   "cell_type": "markdown",
   "metadata": {},
   "source": [
    "## Evolve genome"
   ]
  },
  {
   "cell_type": "code",
   "execution_count": 10,
   "metadata": {},
   "outputs": [],
   "source": [
    "def tournament(population, k=10):\n",
    "    return max(random.choices(population, k=k), key=lambda x: x.fitness)\n",
    "\n",
    "def make_offspring(p1: Individual, p2: Individual, current_best_strategy):\n",
    "    aggressivity = p1.genome.aggressivity if random.random() > 0.5 else p2.genome.aggressivity\n",
    "    aggressivity += random.gauss(0, 0.25)\n",
    "    aggressivity = max(0, min(aggressivity, 1))\n",
    "\n",
    "    longest_first = p1.genome.longest_first if random.random() > 0.5 else p2.genome.longest_first\n",
    "    longest_first += random.gauss(0, 0.25)\n",
    "    longest_first = max(0, min(longest_first, 1))\n",
    "    \n",
    "    how_many = p1.genome.how_many if random.random() > 0.5 else p2.genome.how_many\n",
    "    how_many += random.gauss(0, 0.25)\n",
    "    how_many = max(0, min(how_many, 1))\n",
    "\n",
    "    new_genome = Genome(aggressivity, longest_first, how_many)\n",
    "    individual = Individual(new_genome, evaluate(make_strategy_g(new_genome), current_best_strategy))\n",
    "    \n",
    "    return individual"
   ]
  },
  {
   "cell_type": "code",
   "execution_count": 11,
   "metadata": {},
   "outputs": [
    {
     "name": "stderr",
     "output_type": "stream",
     "text": [
      "2022-12-02 18:01:59,481 DEBUG: Starting iteration 0. Current fitness: 0.1\n",
      "2022-12-02 18:01:59,482 DEBUG: Current best:\n",
      "Aggressivity\tLongest first\tHow many\n",
      "0.57\t\t0.57\t\t0.57\n",
      "2022-12-02 18:02:04,768 DEBUG: Starting iteration 1. Current fitness: 0.69\n",
      "2022-12-02 18:02:04,768 DEBUG: Current best:\n",
      "Aggressivity\tLongest first\tHow many\n",
      "0.96\t\t0.11\t\t0.47\n",
      "2022-12-02 18:02:09,874 DEBUG: Starting iteration 2. Current fitness: 0.69\n",
      "2022-12-02 18:02:09,875 DEBUG: Current best:\n",
      "Aggressivity\tLongest first\tHow many\n",
      "0.96\t\t0.11\t\t0.47\n",
      "2022-12-02 18:02:14,711 DEBUG: Starting iteration 3. Current fitness: 0.77\n",
      "2022-12-02 18:02:14,712 DEBUG: Current best:\n",
      "Aggressivity\tLongest first\tHow many\n",
      "0.95\t\t0.00\t\t0.57\n",
      "2022-12-02 18:02:18,840 DEBUG: Starting iteration 4. Current fitness: 0.77\n",
      "2022-12-02 18:02:18,840 DEBUG: Current best:\n",
      "Aggressivity\tLongest first\tHow many\n",
      "0.95\t\t0.00\t\t0.57\n",
      "2022-12-02 18:02:23,041 DEBUG: Starting iteration 5. Current fitness: 0.96\n",
      "2022-12-02 18:02:23,042 DEBUG: Current best:\n",
      "Aggressivity\tLongest first\tHow many\n",
      "1.00\t\t0.59\t\t0.52\n",
      "2022-12-02 18:02:27,388 DEBUG: Starting iteration 6. Current fitness: 1.0\n",
      "2022-12-02 18:02:27,389 DEBUG: Current best:\n",
      "Aggressivity\tLongest first\tHow many\n",
      "1.00\t\t0.64\t\t0.55\n",
      "2022-12-02 18:02:32,082 DEBUG: Starting iteration 7. Current fitness: 1.0\n",
      "2022-12-02 18:02:32,082 DEBUG: Current best:\n",
      "Aggressivity\tLongest first\tHow many\n",
      "1.00\t\t0.64\t\t0.55\n",
      "2022-12-02 18:02:37,001 DEBUG: Starting iteration 8. Current fitness: 1.0\n",
      "2022-12-02 18:02:37,002 DEBUG: Current best:\n",
      "Aggressivity\tLongest first\tHow many\n",
      "1.00\t\t0.64\t\t0.55\n",
      "2022-12-02 18:02:41,313 DEBUG: Starting iteration 9. Current fitness: 1.0\n",
      "2022-12-02 18:02:41,314 DEBUG: Current best:\n",
      "Aggressivity\tLongest first\tHow many\n",
      "1.00\t\t0.64\t\t0.55\n",
      "2022-12-02 18:02:45,930 DEBUG: Starting iteration 10. Current fitness: 1.0\n",
      "2022-12-02 18:02:45,931 DEBUG: Current best:\n",
      "Aggressivity\tLongest first\tHow many\n",
      "1.00\t\t0.64\t\t0.55\n",
      "2022-12-02 18:02:50,314 DEBUG: Starting iteration 11. Current fitness: 1.0\n",
      "2022-12-02 18:02:50,316 DEBUG: Current best:\n",
      "Aggressivity\tLongest first\tHow many\n",
      "1.00\t\t0.64\t\t0.55\n",
      "2022-12-02 18:02:54,729 DEBUG: Starting iteration 12. Current fitness: 1.0\n",
      "2022-12-02 18:02:54,729 DEBUG: Current best:\n",
      "Aggressivity\tLongest first\tHow many\n",
      "1.00\t\t0.64\t\t0.55\n",
      "2022-12-02 18:02:59,135 DEBUG: Starting iteration 13. Current fitness: 1.0\n",
      "2022-12-02 18:02:59,136 DEBUG: Current best:\n",
      "Aggressivity\tLongest first\tHow many\n",
      "1.00\t\t0.64\t\t0.55\n",
      "2022-12-02 18:03:03,275 DEBUG: Starting iteration 14. Current fitness: 1.0\n",
      "2022-12-02 18:03:03,276 DEBUG: Current best:\n",
      "Aggressivity\tLongest first\tHow many\n",
      "1.00\t\t0.64\t\t0.55\n",
      "2022-12-02 18:03:07,490 DEBUG: Starting iteration 15. Current fitness: 1.0\n",
      "2022-12-02 18:03:07,490 DEBUG: Current best:\n",
      "Aggressivity\tLongest first\tHow many\n",
      "1.00\t\t0.64\t\t0.55\n",
      "2022-12-02 18:03:12,055 DEBUG: Starting iteration 16. Current fitness: 1.0\n",
      "2022-12-02 18:03:12,056 DEBUG: Current best:\n",
      "Aggressivity\tLongest first\tHow many\n",
      "1.00\t\t0.64\t\t0.55\n",
      "2022-12-02 18:03:16,355 DEBUG: Starting iteration 17. Current fitness: 1.0\n",
      "2022-12-02 18:03:16,356 DEBUG: Current best:\n",
      "Aggressivity\tLongest first\tHow many\n",
      "1.00\t\t0.64\t\t0.55\n",
      "2022-12-02 18:03:20,689 DEBUG: Starting iteration 18. Current fitness: 1.0\n",
      "2022-12-02 18:03:20,689 DEBUG: Current best:\n",
      "Aggressivity\tLongest first\tHow many\n",
      "1.00\t\t0.64\t\t0.55\n",
      "2022-12-02 18:03:25,054 DEBUG: Starting iteration 19. Current fitness: 1.0\n",
      "2022-12-02 18:03:25,055 DEBUG: Current best:\n",
      "Aggressivity\tLongest first\tHow many\n",
      "1.00\t\t0.64\t\t0.55\n"
     ]
    }
   ],
   "source": [
    "ITERATIONS = 20\n",
    "POPULATION_SIZE = 40\n",
    "OFFSPRING_SIZE = 200\n",
    "genomes = [Genome(0.5 + random.random()/10, 0.5 + random.random()/10, 0.5 + random.random()/10) for _ in range(POPULATION_SIZE)]\n",
    "\n",
    "population = list(map(lambda genome: Individual(genome, evaluate(make_strategy_g(genome), gabriele)), genomes))\n",
    "for i in range(ITERATIONS):\n",
    "    logging.debug(f\"Starting iteration {i}. Current fitness: {population[0].fitness}\")\n",
    "    logging.debug(f\"Current best:\\nAggressivity\\tLongest first\\tHow many\\n\\\n",
    "{population[0].genome.aggressivity:.2f}\\t\\t{population[0].genome.longest_first:.2f}\\t\\t{population[0].genome.how_many:.2f}\")\n",
    "    offspring = []\n",
    "    for _ in range(OFFSPRING_SIZE):\n",
    "        p1, p2 = tournament(population, k=POPULATION_SIZE), tournament(population, k=POPULATION_SIZE)\n",
    "        o = make_offspring(p1, p2, make_strategy_g(population[0].genome))\n",
    "        offspring.append(o)\n",
    "    population.extend(offspring)\n",
    "    population = sorted(population, key=lambda individual: individual.fitness, reverse=True)[:POPULATION_SIZE]\n",
    "\n",
    "evolved_individual = population[0]"
   ]
  },
  {
   "cell_type": "markdown",
   "metadata": {},
   "source": [
    "## Final match"
   ]
  },
  {
   "cell_type": "code",
   "execution_count": 12,
   "metadata": {},
   "outputs": [
    {
     "data": {
      "text/plain": [
       "0.0"
      ]
     },
     "execution_count": 12,
     "metadata": {},
     "output_type": "execute_result"
    }
   ],
   "source": [
    "evaluate(make_strategy_g(evolved_individual.genome), optimal_strategy, NUM_MATCHES=1000)"
   ]
  },
  {
   "cell_type": "code",
   "execution_count": 13,
   "metadata": {},
   "outputs": [
    {
     "name": "stderr",
     "output_type": "stream",
     "text": [
      "2022-12-02 18:03:34,895 DEBUG: status: Initial board  -> <1 3 5 7 9 11 13 15 17 19 21>\n",
      "2022-12-02 18:03:34,897 DEBUG: status: After player 0 -> <1 3 5 7 9 11 13 15 17 19 6>\n",
      "2022-12-02 18:03:34,899 DEBUG: status: After player 1 -> <1 3 1 7 9 11 13 15 17 19 6>\n",
      "2022-12-02 18:03:34,901 DEBUG: status: After player 0 -> <1 3 1 7 9 11 13 15 17 19 2>\n",
      "2022-12-02 18:03:34,902 DEBUG: status: After player 1 -> <1 3 1 3 9 11 13 15 17 19 2>\n",
      "2022-12-02 18:03:34,903 DEBUG: status: After player 0 -> <1 3 1 3 9 11 13 5 17 19 2>\n",
      "2022-12-02 18:03:34,906 DEBUG: status: After player 1 -> <1 3 1 3 3 11 13 5 17 19 2>\n",
      "2022-12-02 18:03:34,907 DEBUG: status: After player 0 -> <1 3 1 3 3 11 13 5 17 6 2>\n",
      "2022-12-02 18:03:34,908 DEBUG: status: After player 1 -> <1 3 1 3 3 11 13 5 4 6 2>\n",
      "2022-12-02 18:03:34,909 DEBUG: status: After player 0 -> <1 3 1 3 3 11 13 2 4 6 2>\n",
      "2022-12-02 18:03:34,910 DEBUG: status: After player 1 -> <1 3 1 3 3 11 10 2 4 6 2>\n",
      "2022-12-02 18:03:34,911 DEBUG: status: After player 0 -> <1 2 1 3 3 11 10 2 4 6 2>\n",
      "2022-12-02 18:03:34,912 DEBUG: status: After player 1 -> <0 2 1 3 3 11 10 2 4 6 2>\n",
      "2022-12-02 18:03:34,913 DEBUG: status: After player 0 -> <0 2 1 3 3 11 10 2 1 6 2>\n",
      "2022-12-02 18:03:34,914 DEBUG: status: After player 1 -> <0 2 1 3 3 11 10 2 1 3 2>\n",
      "2022-12-02 18:03:34,915 DEBUG: status: After player 0 -> <0 1 1 3 3 11 10 2 1 3 2>\n",
      "2022-12-02 18:03:34,916 DEBUG: status: After player 1 -> <0 1 1 0 3 11 10 2 1 3 2>\n",
      "2022-12-02 18:03:34,918 DEBUG: status: After player 0 -> <0 1 1 0 3 11 10 2 1 3 1>\n",
      "2022-12-02 18:03:34,919 DEBUG: status: After player 1 -> <0 1 1 0 0 11 10 2 1 3 1>\n",
      "2022-12-02 18:03:34,920 DEBUG: status: After player 0 -> <0 1 1 0 0 11 10 2 1 2 1>\n",
      "2022-12-02 18:03:34,921 DEBUG: status: After player 1 -> <0 0 1 0 0 11 10 2 1 2 1>\n",
      "2022-12-02 18:03:34,921 DEBUG: status: After player 0 -> <0 0 1 0 0 11 10 1 1 2 1>\n",
      "2022-12-02 18:03:34,923 DEBUG: status: After player 1 -> <0 0 1 0 0 8 10 1 1 2 1>\n",
      "2022-12-02 18:03:34,923 DEBUG: status: After player 0 -> <0 0 1 0 0 8 3 1 1 2 1>\n",
      "2022-12-02 18:03:34,924 DEBUG: status: After player 1 -> <0 0 1 0 0 1 3 1 1 2 1>\n",
      "2022-12-02 18:03:34,925 DEBUG: status: After player 0 -> <0 0 1 0 0 1 3 0 1 2 1>\n",
      "2022-12-02 18:03:34,927 DEBUG: status: After player 1 -> <0 0 0 0 0 1 3 0 1 2 1>\n",
      "2022-12-02 18:03:34,927 DEBUG: status: After player 0 -> <0 0 0 0 0 1 3 0 0 2 1>\n",
      "2022-12-02 18:03:34,928 DEBUG: status: After player 1 -> <0 0 0 0 0 0 3 0 0 2 1>\n",
      "2022-12-02 18:03:34,929 DEBUG: status: After player 0 -> <0 0 0 0 0 0 2 0 0 2 1>\n",
      "2022-12-02 18:03:34,931 DEBUG: status: After player 1 -> <0 0 0 0 0 0 2 0 0 2 0>\n",
      "2022-12-02 18:03:34,931 DEBUG: status: After player 0 -> <0 0 0 0 0 0 2 0 0 1 0>\n",
      "2022-12-02 18:03:34,932 DEBUG: status: After player 1 -> <0 0 0 0 0 0 1 0 0 1 0>\n",
      "2022-12-02 18:03:34,933 DEBUG: status: After player 0 -> <0 0 0 0 0 0 1 0 0 0 0>\n",
      "2022-12-02 18:03:34,934 DEBUG: status: After player 1 -> <0 0 0 0 0 0 0 0 0 0 0>\n",
      "2022-12-02 18:03:34,935 INFO: status: Player 1 won!\n"
     ]
    }
   ],
   "source": [
    "strategies = (make_strategy_g(evolved_individual.genome), optimal_strategy)\n",
    "\n",
    "nim = Nim(11)\n",
    "logging.debug(f\"status: Initial board  -> {nim}\")\n",
    "player = 0\n",
    "while nim:\n",
    "    ply = strategies[player](nim)\n",
    "    nim.nimming(ply)\n",
    "    logging.debug(f\"status: After player {player} -> {nim}\")\n",
    "    player = 1 - player\n",
    "winner = 1 - player\n",
    "logging.info(f\"status: Player {winner} won!\")"
   ]
  }
 ],
 "metadata": {
  "kernelspec": {
   "display_name": "Python 3.9.5 64-bit",
   "language": "python",
   "name": "python3"
  },
  "language_info": {
   "codemirror_mode": {
    "name": "ipython",
    "version": 3
   },
   "file_extension": ".py",
   "mimetype": "text/x-python",
   "name": "python",
   "nbconvert_exporter": "python",
   "pygments_lexer": "ipython3",
   "version": "3.9.5"
  },
  "orig_nbformat": 4,
  "vscode": {
   "interpreter": {
    "hash": "11938c6bc6919ae2720b4d5011047913343b08a43b18698fd82dedb0d4417594"
   }
  }
 },
 "nbformat": 4,
 "nbformat_minor": 2
}
