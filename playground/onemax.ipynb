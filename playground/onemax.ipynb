{
 "cells": [
  {
   "cell_type": "code",
   "execution_count": 91,
   "metadata": {},
   "outputs": [],
   "source": [
    "import random"
   ]
  },
  {
   "cell_type": "markdown",
   "metadata": {},
   "source": [
    "# Genetic Algorithms - One Max Problem"
   ]
  },
  {
   "cell_type": "code",
   "execution_count": 92,
   "metadata": {},
   "outputs": [],
   "source": [
    "PROBLEM_SIZE = 10\n",
    "POPULATION_SIZE = 3\n",
    "OFFSPRING_SIZE = 2"
   ]
  },
  {
   "cell_type": "code",
   "execution_count": 93,
   "metadata": {},
   "outputs": [],
   "source": [
    "def onemax(genome):\n",
    "    return sum(genome)"
   ]
  },
  {
   "cell_type": "code",
   "execution_count": 94,
   "metadata": {},
   "outputs": [],
   "source": [
    "def select_parent(population, tournament_size=2):\n",
    "    subset = random.choices(population, k=tournament_size)\n",
    "    return max(subset, key=lambda x: x[1])"
   ]
  },
  {
   "cell_type": "code",
   "execution_count": 95,
   "metadata": {},
   "outputs": [],
   "source": [
    "def crossover(p1, p2):\n",
    "    cut = random.randint(0, PROBLEM_SIZE)\n",
    "    ng = p1[0:cut] + p2[cut:]\n",
    "    return ng"
   ]
  },
  {
   "cell_type": "code",
   "execution_count": 96,
   "metadata": {},
   "outputs": [],
   "source": [
    "def mutation(g):\n",
    "    g = g[:]\n",
    "    index = random.randint(0, PROBLEM_SIZE-1)\n",
    "    g[index] = 1 - g[index]\n",
    "    return g"
   ]
  },
  {
   "cell_type": "code",
   "execution_count": 97,
   "metadata": {},
   "outputs": [],
   "source": [
    "population = list()\n",
    "for genome in [[random.choice([1, 0]) for _ in range(PROBLEM_SIZE)] for __ in range(POPULATION_SIZE)]:\n",
    "    population.append((genome, onemax(genome)))"
   ]
  },
  {
   "cell_type": "code",
   "execution_count": 98,
   "metadata": {},
   "outputs": [],
   "source": [
    "for g in range(1000):\n",
    "    for i in range(OFFSPRING_SIZE):\n",
    "        if random.random() < .2:\n",
    "            p = select_parent(population)\n",
    "            o = mutation(p[0])\n",
    "        else:\n",
    "            p1 = select_parent(population)\n",
    "            p2 = select_parent(population)\n",
    "            o = crossover(p1[0], p2[0])\n",
    "        population.append((o, onemax(o))) #PROBLEM!! Here we are putting the offspring inside the population, so each "
   ]
  },
  {
   "cell_type": "code",
   "execution_count": 99,
   "metadata": {},
   "outputs": [
    {
     "data": {
      "text/plain": [
       "[([1, 1, 1, 1, 1, 1, 1, 1, 1, 1], 10),\n",
       " ([1, 1, 1, 1, 1, 1, 1, 1, 1, 1], 10),\n",
       " ([1, 1, 1, 1, 1, 1, 1, 1, 1, 1], 10)]"
      ]
     },
     "execution_count": 99,
     "metadata": {},
     "output_type": "execute_result"
    }
   ],
   "source": [
    "sorted(population, key=lambda i: i[1], reverse=True)[:POPULATION_SIZE]"
   ]
  }
 ],
 "metadata": {
  "kernelspec": {
   "display_name": "Python 3.10.7 ('.venv': poetry)",
   "language": "python",
   "name": "python3"
  },
  "language_info": {
   "codemirror_mode": {
    "name": "ipython",
    "version": 3
   },
   "file_extension": ".py",
   "mimetype": "text/x-python",
   "name": "python",
   "nbconvert_exporter": "python",
   "pygments_lexer": "ipython3",
   "version": "3.10.7"
  },
  "orig_nbformat": 4,
  "vscode": {
   "interpreter": {
    "hash": "1f6b124141497e8550d29bbaca34848571f9372956dfd6adff4e1c66b6950e25"
   }
  }
 },
 "nbformat": 4,
 "nbformat_minor": 2
}
